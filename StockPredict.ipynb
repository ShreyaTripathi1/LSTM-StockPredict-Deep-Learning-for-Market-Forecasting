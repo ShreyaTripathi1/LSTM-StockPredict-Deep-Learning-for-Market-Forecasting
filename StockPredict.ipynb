{
 "cells": [
  {
   "cell_type": "markdown",
   "id": "3a2d02a2",
   "metadata": {},
   "source": [
    "# StockPredict\n",
    "**(Using Deep Learning & Stacked LSTM for Market Forecasting)**\n",
    "\n",
    "This project aims to predict the future stock prices of Apple Inc. (AAPL) for the next 30 days using a Stacked Long Short-Term Memory (LSTM) model. \n",
    "\n",
    "---"
   ]
  },
  {
   "cell_type": "markdown",
   "id": "5d9e9839",
   "metadata": {},
   "source": [
    "Below are the steps involved in the implementation:-\n",
    "\n",
    "### 1. Data Collection\n",
    "\n",
    "Gather historical stock price data for AAPL from a reliable source such as Yahoo Finance or any stock market API.\n",
    "\n",
    "### 2. Data Preprocessing\n",
    "\n",
    "Clean and preprocess the data to make it suitable for training the model.\n",
    "Split the dataset into training and test sets.\n",
    "\n",
    "### 3. Model Creation\n",
    "\n",
    "Build a Stacked LSTM model to capture sequential patterns in the stock price data.\n",
    "Tune hyperparameters and compile the model.\n",
    "\n",
    "### 4. Prediction\n",
    "\n",
    "Use the trained model to predict the stock prices for the next 30 days.\n",
    "Plot the predicted results against the actual values for better visualization and comparison.\n",
    "\n",
    "### Output\n",
    "A graph showing the predicted stock prices for the next 30 days, providing insights into future trends."
   ]
  },
  {
   "cell_type": "code",
   "execution_count": 1,
   "id": "1c1fff72",
   "metadata": {},
   "outputs": [],
   "source": [
    "# Keras & Tenserflow 2.0"
   ]
  },
  {
   "cell_type": "markdown",
   "id": "fb891382",
   "metadata": {},
   "source": [
    "## Data Collection"
   ]
  },
  {
   "cell_type": "code",
   "execution_count": 2,
   "id": "f55eaf51",
   "metadata": {},
   "outputs": [
    {
     "name": "stdout",
     "output_type": "stream",
     "text": [
      "Requirement already satisfied: pandas-datareader in c:\\users\\user\\anaconda3\\lib\\site-packages (0.10.0)\n",
      "Requirement already satisfied: pandas>=0.23 in c:\\users\\user\\anaconda3\\lib\\site-packages (from pandas-datareader) (1.5.3)\n",
      "Requirement already satisfied: requests>=2.19.0 in c:\\users\\user\\anaconda3\\lib\\site-packages (from pandas-datareader) (2.28.1)\n",
      "Requirement already satisfied: lxml in c:\\users\\user\\anaconda3\\lib\\site-packages (from pandas-datareader) (4.9.1)\n",
      "Requirement already satisfied: numpy>=1.21.0 in c:\\users\\user\\anaconda3\\lib\\site-packages (from pandas>=0.23->pandas-datareader) (1.23.5)\n",
      "Requirement already satisfied: pytz>=2020.1 in c:\\users\\user\\anaconda3\\lib\\site-packages (from pandas>=0.23->pandas-datareader) (2022.7)\n",
      "Requirement already satisfied: python-dateutil>=2.8.1 in c:\\users\\user\\anaconda3\\lib\\site-packages (from pandas>=0.23->pandas-datareader) (2.8.2)\n",
      "Requirement already satisfied: urllib3<1.27,>=1.21.1 in c:\\users\\user\\anaconda3\\lib\\site-packages (from requests>=2.19.0->pandas-datareader) (1.26.14)\n",
      "Requirement already satisfied: certifi>=2017.4.17 in c:\\users\\user\\anaconda3\\lib\\site-packages (from requests>=2.19.0->pandas-datareader) (2023.7.22)\n",
      "Requirement already satisfied: idna<4,>=2.5 in c:\\users\\user\\anaconda3\\lib\\site-packages (from requests>=2.19.0->pandas-datareader) (2.10)\n",
      "Requirement already satisfied: charset-normalizer<3,>=2 in c:\\users\\user\\anaconda3\\lib\\site-packages (from requests>=2.19.0->pandas-datareader) (2.0.4)\n",
      "Requirement already satisfied: six>=1.5 in c:\\users\\user\\anaconda3\\lib\\site-packages (from python-dateutil>=2.8.1->pandas>=0.23->pandas-datareader) (1.16.0)\n"
     ]
    },
    {
     "name": "stderr",
     "output_type": "stream",
     "text": [
      "WARNING: Ignoring invalid distribution -illow (c:\\users\\user\\anaconda3\\lib\\site-packages)\n",
      "WARNING: Ignoring invalid distribution -illow (c:\\users\\user\\anaconda3\\lib\\site-packages)\n",
      "WARNING: Ignoring invalid distribution -illow (c:\\users\\user\\anaconda3\\lib\\site-packages)\n",
      "WARNING: Ignoring invalid distribution -illow (c:\\users\\user\\anaconda3\\lib\\site-packages)\n",
      "WARNING: Ignoring invalid distribution -illow (c:\\users\\user\\anaconda3\\lib\\site-packages)\n",
      "WARNING: Ignoring invalid distribution -illow (c:\\users\\user\\anaconda3\\lib\\site-packages)\n"
     ]
    }
   ],
   "source": [
    "!pip install pandas-datareader"
   ]
  },
  {
   "cell_type": "code",
   "execution_count": 3,
   "id": "feacdc93",
   "metadata": {},
   "outputs": [
    {
     "name": "stdout",
     "output_type": "stream",
     "text": [
      "Module imported successfully!\n"
     ]
    }
   ],
   "source": [
    "import pandas_datareader as pdr\n",
    "print(\"Module imported successfully!\")"
   ]
  },
  {
   "cell_type": "code",
   "execution_count": null,
   "id": "80d45573",
   "metadata": {},
   "outputs": [],
   "source": [
    "import os\n",
    "df = pdr.get_data_tiingo('AAPL', api_key=os.getenv('TIINGO_API_KEY'))"
   ]
  },
  {
   "cell_type": "markdown",
   "id": "a05e1572",
   "metadata": {},
   "source": [
    "!pip install pandas==1.5.3 pandas-datareader==0.10.0\n",
    "if code dosent run"
   ]
  },
  {
   "cell_type": "code",
   "execution_count": null,
   "id": "80e05cff",
   "metadata": {},
   "outputs": [],
   "source": []
  }
 ],
 "metadata": {
  "kernelspec": {
   "display_name": "Python 3 (ipykernel)",
   "language": "python",
   "name": "python3"
  },
  "language_info": {
   "codemirror_mode": {
    "name": "ipython",
    "version": 3
   },
   "file_extension": ".py",
   "mimetype": "text/x-python",
   "name": "python",
   "nbconvert_exporter": "python",
   "pygments_lexer": "ipython3",
   "version": "3.10.9"
  }
 },
 "nbformat": 4,
 "nbformat_minor": 5
}
